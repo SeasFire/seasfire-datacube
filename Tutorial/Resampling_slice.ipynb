{
 "cells": [
  {
   "cell_type": "markdown",
   "id": "banner-vitamin",
   "metadata": {},
   "source": [
    "# Resample Data to Specific Spatio-Temporal Resolutions "
   ]
  },
  {
   "cell_type": "markdown",
   "id": "acoustic-couple",
   "metadata": {},
   "source": [
    "## xr.datarray.coarsen to resample spatially \n",
    "## xr.datarray.resample to resample temporally"
   ]
  },
  {
   "cell_type": "code",
   "execution_count": null,
   "id": "binary-engagement",
   "metadata": {},
   "outputs": [],
   "source": [
    "# import libraries\n",
    "from pathlib import Path\n",
    "import xarray as xr \n",
    "import rioxarray"
   ]
  },
  {
   "cell_type": "code",
   "execution_count": null,
   "id": "female-receptor",
   "metadata": {},
   "outputs": [],
   "source": [
    "#insert the path you have saved the cube or go to tutorial Seasfire_datacube_tutorial.ipynb to see how to access it \n",
    "\n",
    "# ds=xr.open_zarr(Path.home() / 'SeasFireCube8daily.zarr')\n",
    "ds=xr.open_zarr(Path.home() / 'seasfire.zarr')"
   ]
  },
  {
   "cell_type": "code",
   "execution_count": null,
   "id": "second-warning",
   "metadata": {},
   "outputs": [],
   "source": [
    "ds"
   ]
  },
  {
   "cell_type": "code",
   "execution_count": null,
   "id": "0626d40c",
   "metadata": {},
   "outputs": [],
   "source": [
    "# import csv\n",
    "# import numpy as np\n",
    "# from collections import OrderedDict\n",
    "\n",
    "# with open('min_max_per_var.csv', 'w', newline='') as csvfile:\n",
    "#     writer = csv.writer(csvfile, delimiter=',', quotechar='|')\n",
    "#     dat_vars = list(ds.data_vars)\n",
    "#     vars_all = { i*2:str(var_)+\"_min\" for i, var_ in enumerate(dat_vars)}\n",
    "#     vars_maxs = { (j*2)+1:str(var_)+\"_max\" for j, var_ in enumerate(dat_vars)}\n",
    "\n",
    "#     vars_all.update(vars_maxs)\n",
    "#     vars_all = OrderedDict(sorted(vars_all.items(), key=(lambda x: int(x[0]))))\n",
    "#     writer.writerow([vars_all[k] for k in range(len(vars_all))])\n",
    "#     second_row = []\n",
    "#     for k, var_ in enumerate(list(ds.data_vars)):\n",
    "#         print(k,var_)\n",
    "#         m = float(ds[var_].min(skipna=True))\n",
    "#         M = float(ds[var_].max(skipna=True))\n",
    "#         second_row += [m,M]\n",
    "#         print(m,M)\n",
    "#         if k==1: break\n",
    "#     writer.writerow(second_row)\n",
    "\n"
   ]
  },
  {
   "cell_type": "markdown",
   "id": "desirable-nelson",
   "metadata": {},
   "source": [
    "## Spatial aggregation of a variable from 0.25 degrees to 1 degree"
   ]
  },
  {
   "cell_type": "code",
   "execution_count": null,
   "id": "frozen-evidence",
   "metadata": {},
   "outputs": [],
   "source": [
    "# resampled_t2max=ds['t2mmax'].coarsen(longitude=4,latitude=4).mean()\n",
    "resampled_coarsen=ds.coarsen(latitude=4,longitude=4).mean()"
   ]
  },
  {
   "cell_type": "code",
   "execution_count": null,
   "id": "rational-connection",
   "metadata": {},
   "outputs": [],
   "source": [
    "# resampled_t2max\n",
    "resampled_coarsen"
   ]
  },
  {
   "cell_type": "code",
   "execution_count": null,
   "id": "original-conclusion",
   "metadata": {},
   "outputs": [],
   "source": [
    "#plot a time frame\n",
    "#resampled_t2max[1,:,:].plot()"
   ]
  },
  {
   "cell_type": "markdown",
   "id": "vital-permit",
   "metadata": {},
   "source": [
    "## Resample the coarsen variable temporally to get 3 month averages "
   ]
  },
  {
   "cell_type": "code",
   "execution_count": null,
   "id": "limited-collaboration",
   "metadata": {},
   "outputs": [],
   "source": [
    "# monthly_t2max=resampled_t2max.resample(time='3MS').mean()\n",
    "# resampled_coarsen_year=resampled_coarsen.resample(time='3MS').mean()\n",
    "year_start = \"2007-01-01\"\n",
    "year_end = \"2012-01-01\"\n",
    "resampled_coarsen_year=resampled_coarsen.sel(time=slice(year_start, year_end))\n"
   ]
  },
  {
   "cell_type": "code",
   "execution_count": null,
   "id": "discrete-trash",
   "metadata": {},
   "outputs": [],
   "source": [
    "# monthly_t2max\n",
    "resampled_coarsen_year"
   ]
  },
  {
   "cell_type": "code",
   "execution_count": null,
   "id": "91cc11b7",
   "metadata": {},
   "outputs": [],
   "source": [
    "#masked_data=resampled_coarsen_year[\"BAs_GWIS\"]\n",
    "#masked_data[1,:,:].plot()"
   ]
  },
  {
   "cell_type": "code",
   "execution_count": null,
   "id": "fac3fdc3",
   "metadata": {},
   "outputs": [],
   "source": [
    "#masked_data[2,:,:].plot()"
   ]
  },
  {
   "cell_type": "code",
   "execution_count": null,
   "id": "32d81986",
   "metadata": {},
   "outputs": [],
   "source": [
    "size_dict = resampled_coarsen_year.sizes\n",
    "print(size_dict)"
   ]
  },
  {
   "cell_type": "code",
   "execution_count": null,
   "id": "dd298d74",
   "metadata": {},
   "outputs": [],
   "source": [
    "y1, y2, lat, lon = year_start, year_end, size_dict[\"latitude\"], size_dict[\"longitude\"]\n",
    "name_= \"resampled_cube_8_{}_{}_{}_{}_all.zarr\".format(y1,y2,lat,lon) \n",
    "print()\n",
    "resampled_coarsen_year.chunk(\"auto\").to_zarr(Path.home() / name_)"
   ]
  },
  {
   "cell_type": "code",
   "execution_count": null,
   "id": "547c704a",
   "metadata": {},
   "outputs": [],
   "source": [
    "ds2=xr.open_zarr(Path.home() / name_)\n",
    "ds2"
   ]
  },
  {
   "cell_type": "markdown",
   "id": "multiple-bermuda",
   "metadata": {},
   "source": [
    "## Select a specific location"
   ]
  },
  {
   "cell_type": "code",
   "execution_count": null,
   "id": "civil-danger",
   "metadata": {},
   "outputs": [],
   "source": [
    "#select a specific location\n",
    "#lat, lon doen't have to be the exact same as the lat lon in the dataset \n",
    "# it would take the nearest\n",
    "# ds_sel = monthly_t2max.sel(latitude=19.4721, longitude=-155.5922, method='nearest')"
   ]
  },
  {
   "cell_type": "markdown",
   "id": "selected-webmaster",
   "metadata": {},
   "source": [
    "## Select a region "
   ]
  },
  {
   "cell_type": "markdown",
   "id": "useful-proxy",
   "metadata": {},
   "source": [
    "## Method 1: rioxarray bounding box "
   ]
  },
  {
   "cell_type": "code",
   "execution_count": null,
   "id": "peaceful-samba",
   "metadata": {},
   "outputs": [],
   "source": [
    "#select a bounding box \n",
    "#first give a crs to the dataset \n",
    "#here as well it would take the nearest lat lon \n",
    "# l=monthly_t2max.rio.write_crs(4326, inplace=True)\n",
    "\n",
    "l=resampled_coarsen_year.rio.write_crs(4326, inplace=True)\n",
    "\n",
    "\n",
    "min_lon = -24.995\n",
    "min_lat = 28.05\n",
    "max_lon = 45.50\n",
    "max_lat = 71.5545\n",
    "\n",
    "subset = l.rio.clip_box(minx=min_lon, miny=min_lat, maxx=max_lon, maxy=max_lat)\n",
    "\n"
   ]
  },
  {
   "cell_type": "code",
   "execution_count": null,
   "id": "smooth-liability",
   "metadata": {},
   "outputs": [],
   "source": [
    "subset "
   ]
  },
  {
   "cell_type": "markdown",
   "id": "serious-serbia",
   "metadata": {},
   "source": [
    "## Method 2: xarray "
   ]
  },
  {
   "cell_type": "code",
   "execution_count": null,
   "id": "marine-member",
   "metadata": {},
   "outputs": [],
   "source": [
    "#vmax is for colorbar maximum value\n",
    "#time=100\n",
    "#ds.sel(latitude=slice(max_lat,min_lat), longitude=slice(min_lon,max_lon)).isel(time=time).frpfire.plot(vmax=1)"
   ]
  },
  {
   "cell_type": "code",
   "execution_count": null,
   "id": "massive-fusion",
   "metadata": {},
   "outputs": [],
   "source": [
    "#ds_sel_box=ds.sel(latitude=slice(max_lat,min_lat), longitude=slice(min_lon,max_lon)).isel(time=time).frpfire"
   ]
  },
  {
   "cell_type": "code",
   "execution_count": null,
   "id": "solved-lesson",
   "metadata": {},
   "outputs": [],
   "source": [
    "#ds_sel_box"
   ]
  },
  {
   "cell_type": "code",
   "execution_count": null,
   "id": "generous-vampire",
   "metadata": {},
   "outputs": [],
   "source": []
  }
 ],
 "metadata": {
  "kernelspec": {
   "display_name": "Python 3.10.4 ('seasfire')",
   "language": "python",
   "name": "python3"
  },
  "language_info": {
   "codemirror_mode": {
    "name": "ipython",
    "version": 3
   },
   "file_extension": ".py",
   "mimetype": "text/x-python",
   "name": "python",
   "nbconvert_exporter": "python",
   "pygments_lexer": "ipython3",
   "version": "3.10.4"
  },
  "vscode": {
   "interpreter": {
    "hash": "741e1dbd2326dd56a78244aa7b8b7d5ce88122525fbd4733cd1fb5142d45b573"
   }
  }
 },
 "nbformat": 4,
 "nbformat_minor": 5
}
